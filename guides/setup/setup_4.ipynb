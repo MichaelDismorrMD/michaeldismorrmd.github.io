{
  "cells": [
    {
      "cell_type": "raw",
      "metadata": {},
      "source": [
        "---\n",
        "title: \"Installing gh-cli\"\n",
        "---"
      ],
      "id": "d229d7d9"
    },
    {
      "cell_type": "markdown",
      "metadata": {},
      "source": [
        "Now, we will use `brew` to install the github command-line program, [`gh-cli`](https://cli.github.com/manual/).\n",
        "This command line program will allow you to login, sync, and clone the repositories you have access to on GitHub. \n",
        "\n",
        "Type `brew install gh` in your terminal and press {{< kbd Enter >}}. \n",
        "\n",
        "\n",
        "![Installing gh with brew](install_gh.png){size=60%}\n",
        "\n",
        "\n",
        "When the command finishes, type `gh auth login` in the terminal. \n",
        "This will log you in to your github account. Chose GitHub, HTTPS, Yes to authenticate git, and login via browser.\n",
        "\n",
        "![gh login](gh_login.png)\n",
        "\n",
        "To confirm that your login worked, type in `gh auth status` and press {{< kbd Enter >}}.\n",
        "\n",
        "Now we will create an alias, or our own defined command to use with gh. \n",
        "Typen in the following in the terminal:\n",
        "\n",
        "```\n",
        "gh alias set repo-names '!gh api user/repos --paginate | jq \".[] | .full_name\"'\n",
        "```\n",
        "\n",
        "In order for this alias to work, we need to install the `jq` command using `brew`.\n",
        "\n",
        "\n",
        "```{bash}\n",
        "#| eval: false\n",
        "brew install jq\n",
        "```"
      ],
      "id": "4be3472f"
    }
  ],
  "metadata": {
    "kernelspec": {
      "display_name": "Python 3",
      "language": "python",
      "name": "python3"
    }
  },
  "nbformat": 4,
  "nbformat_minor": 5
}